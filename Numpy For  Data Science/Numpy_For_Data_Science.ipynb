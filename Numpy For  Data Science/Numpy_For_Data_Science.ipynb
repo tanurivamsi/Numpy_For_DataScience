{
  "nbformat": 4,
  "nbformat_minor": 0,
  "metadata": {
    "colab": {
      "provenance": [],
      "collapsed_sections": [
        "9QLoEX-2XgNH",
        "mWMvtLESsJqy",
        "T9gKqE3Uxdd-",
        "P-CXObS62RhB",
        "eIVU_Zb96MpW",
        "rfB-wqcA-UN6",
        "ZongUpc6KP0i",
        "otMBmmffM7k1"
      ]
    },
    "kernelspec": {
      "name": "python3",
      "display_name": "Python 3"
    },
    "language_info": {
      "name": "python"
    }
  },
  "cells": [
    {
      "cell_type": "markdown",
      "source": [
        "## **Numpy For Data Scince**"
      ],
      "metadata": {
        "id": "9QLoEX-2XgNH"
      }
    },
    {
      "cell_type": "markdown",
      "source": [
        "Importing Numpy\n"
      ],
      "metadata": {
        "id": "T6V6B8bsoNqZ"
      }
    },
    {
      "cell_type": "code",
      "source": [
        "import numpy as np"
      ],
      "metadata": {
        "id": "AFe0eFcUoRU9"
      },
      "execution_count": null,
      "outputs": []
    },
    {
      "cell_type": "markdown",
      "source": [
        "**Numpy Vs Python**"
      ],
      "metadata": {
        "id": "u6lAsssZXuyp"
      }
    },
    {
      "cell_type": "markdown",
      "source": [
        "1. Speed and Performance:\n",
        "NumPy: Much faster when working with large arrays and numerical computations due to its implementation in C and Fortran.\n",
        "Python: Native Python lists and loops are slower because they are dynamically typed and rely on interpreted execution.\n",
        "2. Memory Efficiency:\n",
        "NumPy: Uses less memory because it stores data in contiguous memory blocks, and data types are fixed, unlike Python’s general-purpose lists.\n",
        "Python: Lists store objects and pointers, leading to more memory overhead and slower access times.\n",
        "3. Multidimensional Arrays:\n",
        "NumPy: Provides the ndarray, which can efficiently handle multidimensional data (2D, 3D, or more). This is a cornerstone of numerical and scientific applications.\n",
        "Python: You’d have to use nested lists to achieve similar functionality, but it's not efficient and lacks built-in functions for advanced operations.\n",
        "4. Mathematical Operations:\n",
        "NumPy: Provides a wide range of optimized mathematical functions such as linear algebra, Fourier transformations, and random number generation. Operations are element-wise, vectorized, and optimized.\n",
        "Python: Native lists require explicit loops for element-wise operations, which are slower and harder to write.**bold text**"
      ],
      "metadata": {
        "id": "Q8vMfFBgohjf"
      }
    },
    {
      "cell_type": "code",
      "execution_count": null,
      "metadata": {
        "id": "vRZstg2UXW_A",
        "colab": {
          "base_uri": "https://localhost:8080/"
        },
        "outputId": "542d8939-a8d9-4b16-bd70-72886fa545b8"
      },
      "outputs": [
        {
          "output_type": "stream",
          "name": "stdout",
          "text": [
            "Sum of lists :  [127, 239, 129]\n",
            "the time for list is : 0.01 Milliseconds\n",
            "[5 7 9]\n",
            "the time for arrey is : 0.01 Milliseconds\n"
          ]
        }
      ],
      "source": [
        "#using pyhton for lists\n",
        "import time\n",
        "a = [123,234,123]\n",
        "b = [4, 5, 6]\n",
        "starting_time = time.time()\n",
        "result = [a[i] + b[i] for i in range(len(a))]\n",
        "ending_time = time.time()\n",
        "sum_Of_time_list = (ending_time - starting_time)*100\n",
        "print(\"Sum of lists : \",result)\n",
        "print(f\"the time for list is : {sum_Of_time_list:.2f} Milliseconds\")\n",
        "\n",
        "#using numpy for arrays\n",
        "import numpy as np\n",
        "a = np.array([1, 2, 3])\n",
        "b = np.array([4, 5, 6])\n",
        "starting_time = time.time()\n",
        "result = a + b  # Vectorized operation\n",
        "ending_time = time.time()\n",
        "sum_Of_time_arrey = (ending_time - starting_time)*100\n",
        "print(result)\n",
        "print(f\"the time for arrey is : {sum_Of_time_arrey:.2f} Milliseconds\")\n",
        "\n"
      ]
    },
    {
      "cell_type": "markdown",
      "source": [
        "# **Numpy Arrays**"
      ],
      "metadata": {
        "id": "mWMvtLESsJqy"
      }
    },
    {
      "cell_type": "markdown",
      "source": [
        "Key Features of a NumPy Array:\n",
        "Fixed Size: Once created, the size of a NumPy array cannot be changed.\n",
        "Homogeneous: All elements in a NumPy array must be of the same data type (e.g., all integers or all floats).\n",
        "Fast and Memory-Efficient: NumPy arrays consume less memory and provide faster access compared to Python lists.\n",
        "Multi-Dimensional: NumPy arrays can be 1-dimensional (vectors), 2-dimensional (matrices), or n-dimensional (nD-arrays). *italicized text*"
      ],
      "metadata": {
        "id": "J1IxS5SwsSno"
      }
    },
    {
      "cell_type": "code",
      "source": [
        "array1 = np.arange(1,10)#staring,ending and stepping\n",
        "i = array1\n",
        "#for array1 in i > 5:\n",
        "    #print(i*0)\n",
        "print(array1)\n",
        "\n"
      ],
      "metadata": {
        "colab": {
          "base_uri": "https://localhost:8080/"
        },
        "id": "7Ze3FiA_otcG",
        "outputId": "a6a121f8-a14c-41c5-f737-933c869a9238"
      },
      "execution_count": null,
      "outputs": [
        {
          "output_type": "stream",
          "name": "stdout",
          "text": [
            "[1 2 3 4 5 6 7 8 9]\n"
          ]
        }
      ]
    },
    {
      "cell_type": "markdown",
      "source": [
        "NumPy arrays are much faster, more memory-efficient, and provide rich functionality for mathematical operations.\n",
        "They allow for efficient manipulation of large datasets, broadcasting, and multidimensional data handling."
      ],
      "metadata": {
        "id": "n6VmGPbbuAjZ"
      }
    },
    {
      "cell_type": "markdown",
      "source": [
        "**One Dimensional Array**"
      ],
      "metadata": {
        "id": "SApOheVkuES5"
      }
    },
    {
      "cell_type": "code",
      "source": [
        "#one dimensional arrays using numpy\n",
        "arr1 = np.array([1,4,61,222])\n",
        "#for i in arr1:\n",
        "\n",
        "print(arr1)\n"
      ],
      "metadata": {
        "colab": {
          "base_uri": "https://localhost:8080/"
        },
        "id": "d1Rg57y2o-Gp",
        "outputId": "584b5a81-3401-4ad4-f9ee-212b6da65e4a"
      },
      "execution_count": null,
      "outputs": [
        {
          "output_type": "stream",
          "name": "stdout",
          "text": [
            "[  1   4  61 222]\n"
          ]
        }
      ]
    },
    {
      "cell_type": "markdown",
      "source": [
        "**Two Dimensional Array**"
      ],
      "metadata": {
        "id": "_1VQKU0Fun4m"
      }
    },
    {
      "cell_type": "code",
      "source": [
        "#Two dimensional array using numpy\n",
        "arr2 = np.array([[1,77,33],[6,33,11]])\n",
        "print(arr2)\n",
        "#time_taken = time.time()\n",
        "\n",
        "#print(time_taken , \" in milliseconds\")"
      ],
      "metadata": {
        "colab": {
          "base_uri": "https://localhost:8080/"
        },
        "id": "iJZ49Zo-ueE4",
        "outputId": "de98eff0-a5a6-482f-f472-52558d217c34"
      },
      "execution_count": null,
      "outputs": [
        {
          "output_type": "stream",
          "name": "stdout",
          "text": [
            "[[ 1 77 33]\n",
            " [ 6 33 11]]\n"
          ]
        }
      ]
    },
    {
      "cell_type": "markdown",
      "source": [
        "**Multi Dimensional Array using Numpy**"
      ],
      "metadata": {
        "id": "jYUati4fwvEf"
      }
    },
    {
      "cell_type": "code",
      "source": [
        "arr3 = np.array([[1,77,33],[6,33,11],[3,77,55],])\n",
        "print(arr3)"
      ],
      "metadata": {
        "colab": {
          "base_uri": "https://localhost:8080/"
        },
        "id": "8t6dH1OPvHvb",
        "outputId": "bb4b307e-4252-4491-b7fa-499cf85ac553"
      },
      "execution_count": null,
      "outputs": [
        {
          "output_type": "stream",
          "name": "stdout",
          "text": [
            "[[ 1 77 33]\n",
            " [ 6 33 11]\n",
            " [ 3 77 55]]\n"
          ]
        }
      ]
    },
    {
      "cell_type": "markdown",
      "source": [
        "# **Properties of Array using numpy**"
      ],
      "metadata": {
        "id": "T9gKqE3Uxdd-"
      }
    },
    {
      "cell_type": "markdown",
      "source": [
        "NumPy arrays have the following key properties:\n",
        "\n",
        "ndim: The number of dimensions (axes) of the array.\n",
        "\n",
        "shape: The shape of the array, represented as a tuple of integers indicating the size of the array in each dimension.\n",
        "\n",
        "size: The total number of elements in the array (product of its dimensions).\n",
        "\n",
        "dtype: The data type of the elements in the array, such as int32, float64, etc.\n",
        "\n",
        "itemsize: The size of each element in the array (in bytes).\n",
        "\n",
        "nbytes: The total memory consumed by the array (in bytes), equal to the product of size and itemsize.\n",
        "\n",
        "T: The transpose of the array (rows become columns).\n",
        "\n",
        "flat: A flat iterator over all elements in the array, treating it as if it were 1-dimensional.\n",
        "\n",
        "real and imag: The real and imaginary parts of the array if it contains complex numbers."
      ],
      "metadata": {
        "id": "bEnDAndwxm4T"
      }
    },
    {
      "cell_type": "code",
      "source": [
        "print(\"The number of dimensions (axes) of the array : \",arr3.ndim)\n",
        "print(\"shape : \",arr3.shape)\n",
        "print(\"size of an array is : \",arr3.size)\n",
        "print(\"dataType : \",arr3.dtype)\n",
        "print(\"Itemsize of an array : \",arr3.itemsize)\n",
        "print(\"The total memory consumed by the array : \",arr3.nbytes)\n",
        "print(\"The transpose of the array : \",arr3.T)\n",
        "print(\"Flate the array : \" ,arr3.flat)"
      ],
      "metadata": {
        "colab": {
          "base_uri": "https://localhost:8080/"
        },
        "id": "_49nwIhvw_K-",
        "outputId": "3cbb1cc1-5ae9-458f-f3d8-6265c0acd98a"
      },
      "execution_count": null,
      "outputs": [
        {
          "output_type": "stream",
          "name": "stdout",
          "text": [
            "The number of dimensions (axes) of the array :  2\n",
            "shape :  (3, 3)\n",
            "size of an array is :  9\n",
            "dataType :  int64\n",
            "Itemsize of an array :  8\n",
            "The total memory consumed by the array :  72\n",
            "The transpose of the array :  [[ 1  6  3]\n",
            " [77 33 77]\n",
            " [33 11 55]]\n",
            "Flate the array :  <numpy.flatiter object at 0x567d2dffb2f0>\n"
          ]
        }
      ]
    },
    {
      "cell_type": "code",
      "source": [
        "#3D array with Zeros\n",
        "Zeroth_Array = np.zeros((2,5,5))\n",
        "print(Zeroth_Array)"
      ],
      "metadata": {
        "colab": {
          "base_uri": "https://localhost:8080/"
        },
        "id": "aA4h1Cq1x865",
        "outputId": "30c53f1d-eb78-42c6-b2c5-c862f4353a6a"
      },
      "execution_count": null,
      "outputs": [
        {
          "output_type": "stream",
          "name": "stdout",
          "text": [
            "[[[0. 0. 0. 0. 0.]\n",
            "  [0. 0. 0. 0. 0.]\n",
            "  [0. 0. 0. 0. 0.]\n",
            "  [0. 0. 0. 0. 0.]\n",
            "  [0. 0. 0. 0. 0.]]\n",
            "\n",
            " [[0. 0. 0. 0. 0.]\n",
            "  [0. 0. 0. 0. 0.]\n",
            "  [0. 0. 0. 0. 0.]\n",
            "  [0. 0. 0. 0. 0.]\n",
            "  [0. 0. 0. 0. 0.]]]\n"
          ]
        }
      ]
    },
    {
      "cell_type": "code",
      "source": [
        "Once_Array = np.ones((2,5,5))\n",
        "print(Once_Array)"
      ],
      "metadata": {
        "colab": {
          "base_uri": "https://localhost:8080/"
        },
        "id": "YiGcoAR_1PAv",
        "outputId": "a77ecdfa-65d2-4d4e-8ea2-090ee3ebd453"
      },
      "execution_count": null,
      "outputs": [
        {
          "output_type": "stream",
          "name": "stdout",
          "text": [
            "[[[1. 1. 1. 1. 1.]\n",
            "  [1. 1. 1. 1. 1.]\n",
            "  [1. 1. 1. 1. 1.]\n",
            "  [1. 1. 1. 1. 1.]\n",
            "  [1. 1. 1. 1. 1.]]\n",
            "\n",
            " [[1. 1. 1. 1. 1.]\n",
            "  [1. 1. 1. 1. 1.]\n",
            "  [1. 1. 1. 1. 1.]\n",
            "  [1. 1. 1. 1. 1.]\n",
            "  [1. 1. 1. 1. 1.]]]\n"
          ]
        }
      ]
    },
    {
      "cell_type": "markdown",
      "source": [
        "# **DataTypes in Numpy**"
      ],
      "metadata": {
        "id": "P-CXObS62RhB"
      }
    },
    {
      "cell_type": "markdown",
      "source": [
        "1. Integer Types:\n",
        "int8: Integer (-128 to 127), 1 byte\n",
        "int16: Integer (-32,768 to 32,767), 2 bytes\n",
        "int32: Integer (-2,147,483,648 to 2,147,483,647), 4 bytes\n",
        "int64: Integer (-9,223,372,036,854,775,808 to 9,223,372,036,854,775,807), 8 bytes\n",
        "2. Unsigned Integer Types:\n",
        "uint8: Unsigned integer (0 to 255), 1 byte\n",
        "uint16: Unsigned integer (0 to 65,535), 2 bytes\n",
        "uint32: Unsigned integer (0 to 4,294,967,295), 4 bytes\n",
        "uint64: Unsigned integer (0 to 18,446,744,073,709,551,615), 8 bytes\n",
        "3. Floating-Point Types:\n",
        "float16: Half precision float, 2 bytes\n",
        "float32: Single precision float, 4 bytes\n",
        "float64: Double precision float, 8 bytes\n",
        "4. Complex Number Types:\n",
        "complex64: Complex number, represented by two 32-bit floats (real and imaginary parts), 8 bytes\n",
        "complex128: Complex number, represented by two 64-bit floats (real and imaginary parts), 16 bytes\n",
        "5. Boolean Type:\n",
        "bool: Boolean (True or False), 1 byte\n",
        "6. String Types:\n",
        "string_: Fixed-size string data. Length determined by the number following the S, e.g., S10 for 10 characters.\n",
        "unicode_: Fixed-size Unicode data. Length determined by the number following the U, e.g., U10 for 10 characters."
      ],
      "metadata": {
        "id": "w6CGJ0SR2w7z"
      }
    },
    {
      "cell_type": "code",
      "source": [
        "#int datatypes\n",
        "array_int = np.array([1,5,56,2],dtype=np.int32)\n",
        "int_array = np.array([1,5,56,2],dtype=np.int64)\n",
        "print(int_array.dtype)\n",
        "print(array_int.dtype)\n",
        "array_bool = np.array([1,5,56,2],dtype=np.bool_)\n",
        "print(array_bool.dtype)\n",
        "array_float = np.array([1,5,56,2],dtype=np.float64)\n",
        "print(array_float.dtype)"
      ],
      "metadata": {
        "colab": {
          "base_uri": "https://localhost:8080/"
        },
        "id": "Hz-yQYmh2yVZ",
        "outputId": "fd8b5d6a-6993-42a0-dd05-60a9255c11a1"
      },
      "execution_count": null,
      "outputs": [
        {
          "output_type": "stream",
          "name": "stdout",
          "text": [
            "int64\n",
            "int32\n",
            "bool\n",
            "float64\n"
          ]
        }
      ]
    },
    {
      "cell_type": "markdown",
      "source": [
        "# **Operators in Numpy**"
      ],
      "metadata": {
        "id": "eIVU_Zb96MpW"
      }
    },
    {
      "cell_type": "markdown",
      "source": [
        "**Arithmetic Operations:**"
      ],
      "metadata": {
        "id": "qsabLJ8O8dSJ"
      }
    },
    {
      "cell_type": "markdown",
      "source": [
        "\n",
        "These are performed element-wise and are vectorized for performance:\n",
        "\n",
        "Addition: +\n",
        "Subtraction: -\n",
        "Multiplication: *\n",
        "Division: /\n",
        "Exponentiation: **\n",
        "Modulus:"
      ],
      "metadata": {
        "id": "yuBb9QMR6Sf_"
      }
    },
    {
      "cell_type": "code",
      "source": [
        "arr_addition = np.add([1,55,22,56],[4,77,2,95])\n",
        "print(\"addition of array \",arr_addition)\n",
        "arr_subtraction = np.subtract([1,55,22,56],[4,77,2,95])\n",
        "print(\"subtraction of array \",arr_subtraction)\n",
        "arr_multiplication = np.multiply([1,55,22,56],[4,77,2,95])\n",
        "print(\"multiplication of array \",arr_multiplication)\n",
        "arr_division = np.divide([1,55,22,56],[4,77,2,95])\n",
        "print(\"Division of array \",arr_division)\n",
        "arr_exponentiation = np.power([1,55,22,56],[4,77,2,95])\n",
        "print(\"Exponatial of array \",arr_exponentiation)\n",
        "arr_modulus = np.mod([1,55,22,56],[4,77,2,95])\n",
        "print(\"Modulus of array \",arr_modulus)\n",
        "\n"
      ],
      "metadata": {
        "colab": {
          "base_uri": "https://localhost:8080/"
        },
        "id": "io9KsvCa3tmO",
        "outputId": "f6e7df8c-94c0-404c-e7c3-fbb03710d267"
      },
      "execution_count": null,
      "outputs": [
        {
          "output_type": "stream",
          "name": "stdout",
          "text": [
            "addition of array  [  5 132  24 151]\n",
            "subtraction of array  [ -3 -22  20 -39]\n",
            "multiplication of array  [   4 4235   44 5320]\n",
            "Division of array  [ 0.25        0.71428571 11.          0.58947368]\n",
            "Exponatial of array  [                   1 -7557483726025653929                  484\n",
            "                    0]\n",
            "Modulus of array  [ 1 55  0 56]\n"
          ]
        }
      ]
    },
    {
      "cell_type": "markdown",
      "source": [
        "**Mathematical Operators in Numpy**"
      ],
      "metadata": {
        "id": "0n-VkiLh8L4G"
      }
    },
    {
      "cell_type": "markdown",
      "source": [
        "Mathematical Functions:\n",
        "NumPy offers a wide range of mathematical functions that operate element-wise:\n",
        "\n",
        "np.sqrt(): Square root\n",
        "np.exp(): Exponential (e^x)\n",
        "np.log(): Natural logarithm\n",
        "np.sin(), np.cos(), np.tan(): Trigonometric functions\n",
        "np.sum(): Sum of array elements\n",
        "np.mean(): Mean of array elements\n",
        "np.median(): Median of array elements\n",
        "np.std(): Standard deviation of array elements\n",
        "np.max(), np.min(): Maximum and minimum values in an array"
      ],
      "metadata": {
        "id": "p9DD7zbZ8UHy"
      }
    },
    {
      "cell_type": "code",
      "source": [
        "array_mean = np.mean([1,55,22,56])\n",
        "print(\"Mean of array \",array_mean)\n",
        "array_median = np.median([1,55,22,56])\n",
        "print(\"Median of array \",array_median)\n",
        "array_standard_deviation = np.std([1,55,22,56])\n",
        "print(\"Standard Deviation of array \",array_standard_deviation)\n",
        "array_cos = np.cos([1,55,22,56])\n",
        "print(\"Cos of array \",array_cos)\n",
        "array_sin = np.sin([1,55,22,56])\n",
        "print(\"Sin of array \",array_sin)\n",
        "array_tan = np.tan([1,55,22,56])\n",
        "print(\"Tan of array \",array_tan)\n",
        "array_sum = np.sum([1,55,22,56])\n",
        "print(\"Sum of array \",array_sum)\n",
        "array_max = np.max([1,55,22,56])\n",
        "print(\"Max of array \",array_max)\n",
        "array_min = np.min([1,55,22,56])\n",
        "print(\"Min of array \",array_min)\n"
      ],
      "metadata": {
        "colab": {
          "base_uri": "https://localhost:8080/"
        },
        "id": "SsJOQtWw7HSR",
        "outputId": "5e37b388-8fda-4c86-ff24-660257167140"
      },
      "execution_count": null,
      "outputs": [
        {
          "output_type": "stream",
          "name": "stdout",
          "text": [
            "Mean of array  33.5\n",
            "Median of array  38.5\n",
            "Standard Deviation of array  23.221757039466244\n",
            "Cos of array  [ 0.54030231  0.02212676 -0.99996083  0.85322011]\n",
            "Sin of array  [ 0.84147098 -0.99975517 -0.00885131 -0.521551  ]\n",
            "Tan of array  [ 1.55740772e+00 -4.51830879e+01  8.85165604e-03 -6.11273688e-01]\n",
            "Sum of array  134\n",
            "Max of array  56\n",
            "Min of array  1\n"
          ]
        }
      ]
    },
    {
      "cell_type": "markdown",
      "source": [
        "# **Indexing and Slicing**"
      ],
      "metadata": {
        "id": "rfB-wqcA-UN6"
      }
    },
    {
      "cell_type": "markdown",
      "source": [
        "**indexing and Slicing in 1D array**\n",
        "\n"
      ],
      "metadata": {
        "id": "OU6jJdGcBsup"
      }
    },
    {
      "cell_type": "code",
      "source": [
        "import numpy as np\n",
        "array_indexing = np.array([1,55,22,56])\n",
        "#print(array_indexing[1:3:2])\n",
        "array_indexing[1] = 100\n",
        "#print(array_indexing)\n",
        "array_indexing[2] = 200\n",
        "print(array_indexing)\n",
        "#slicing\n",
        "arr = np.array([10, 20, 30, 40, 50])\n",
        "print(arr[1:4])  # Output: [20 30 40] (elements from index 1 to 3)\n",
        "print(arr[::2])  # Output: [10 30 50] (every second element)\n"
      ],
      "metadata": {
        "id": "Ov_8y9SE89og",
        "colab": {
          "base_uri": "https://localhost:8080/"
        },
        "outputId": "309dbbe6-0bc6-48ef-9b4f-d06ff6cbcf50"
      },
      "execution_count": 33,
      "outputs": [
        {
          "output_type": "stream",
          "name": "stdout",
          "text": [
            "[  1 100 200  56]\n",
            "[20 30 40]\n",
            "[10 30 50]\n"
          ]
        }
      ]
    },
    {
      "cell_type": "markdown",
      "source": [
        "**indexing and slicing in 2D array**"
      ],
      "metadata": {
        "id": "Zut8pr3nB6oj"
      }
    },
    {
      "cell_type": "code",
      "source": [
        "arr = np.array([[1, 2, 3], [4, 5, 6], [7, 8, 9]])\n",
        "print(arr[2, 2])  # Output: 6 (element in the 2nd row and 3rd column)\n",
        "#slicing in 2D array\n",
        "print(arr[0:2,1:3])\n",
        "print(arr[0:3,1:2])\n"
      ],
      "metadata": {
        "colab": {
          "base_uri": "https://localhost:8080/"
        },
        "id": "H0J_3Npf-sye",
        "outputId": "9ceed044-1663-4521-f549-01bb5c2c1668"
      },
      "execution_count": 34,
      "outputs": [
        {
          "output_type": "stream",
          "name": "stdout",
          "text": [
            "9\n",
            "[[2 3]\n",
            " [5 6]]\n",
            "[[2]\n",
            " [5]\n",
            " [8]]\n"
          ]
        }
      ]
    },
    {
      "cell_type": "markdown",
      "source": [
        "**indexing and slicing in 3D array**"
      ],
      "metadata": {
        "id": "pwp3korOC7ZB"
      }
    },
    {
      "cell_type": "code",
      "source": [
        "arr = np.array([[[1, 2],\n",
        "                 [3, 4]],\n",
        "                [[5, 6],\n",
        "                 [7, 8]]])\n",
        "print(arr[0, 1, 1])  # Output: 4 (element in the 1st block, 2nd row, 2nd column)\n"
      ],
      "metadata": {
        "colab": {
          "base_uri": "https://localhost:8080/"
        },
        "id": "JkkxWTUKCZNq",
        "outputId": "6b7ed4ae-1241-45db-d248-01a4826f7215"
      },
      "execution_count": 32,
      "outputs": [
        {
          "output_type": "stream",
          "name": "stdout",
          "text": [
            "4\n"
          ]
        }
      ]
    },
    {
      "cell_type": "markdown",
      "source": [
        "**Boolean indexing**"
      ],
      "metadata": {
        "id": "8iqhhJUgEWe8"
      }
    },
    {
      "cell_type": "code",
      "source": [
        "arr = np.array([10, 20, 30, 40, 50])\n",
        "print(arr[arr >= 40])  # Output: [40 50]\n"
      ],
      "metadata": {
        "colab": {
          "base_uri": "https://localhost:8080/"
        },
        "id": "VH6xRNYnDU30",
        "outputId": "1825d33d-a637-4197-87ff-4b790f0830ae"
      },
      "execution_count": 40,
      "outputs": [
        {
          "output_type": "stream",
          "name": "stdout",
          "text": [
            "[40 50]\n"
          ]
        }
      ]
    },
    {
      "cell_type": "code",
      "source": [
        "arr = np.random.normal(0, 1, 5)\n",
        "print(arr)\n"
      ],
      "metadata": {
        "colab": {
          "base_uri": "https://localhost:8080/"
        },
        "id": "UjTBhwzcEbfW",
        "outputId": "9468e1bb-2e74-4e46-94d9-42565a0326ec"
      },
      "execution_count": 41,
      "outputs": [
        {
          "output_type": "stream",
          "name": "stdout",
          "text": [
            "[0.39574707 0.6083932  0.74163259 0.00220765 0.68293463]\n"
          ]
        }
      ]
    },
    {
      "cell_type": "code",
      "source": [
        "arr = np.random.normal(10, 2, (2, 3))\n",
        "print(arr)\n"
      ],
      "metadata": {
        "colab": {
          "base_uri": "https://localhost:8080/"
        },
        "id": "V2tZYKMXGF3W",
        "outputId": "da9f5bb9-cce4-44be-94b9-9962202adf75"
      },
      "execution_count": 42,
      "outputs": [
        {
          "output_type": "stream",
          "name": "stdout",
          "text": [
            "[[ 8.56150317 10.83395752  9.07833359]\n",
            " [ 5.5561304  11.38778105 10.58464736]]\n"
          ]
        }
      ]
    },
    {
      "cell_type": "markdown",
      "source": [
        "# **Masking**"
      ],
      "metadata": {
        "id": "ZongUpc6KP0i"
      }
    },
    {
      "cell_type": "code",
      "source": [
        "import numpy as np\n",
        "\n",
        "arr = np.array([10, 20, 30, 40, 50])\n",
        "mask = arr > 30  # Create a mask where elements are greater than 30\n",
        "print(mask)  # Output: [False False False  True  True]\n"
      ],
      "metadata": {
        "colab": {
          "base_uri": "https://localhost:8080/"
        },
        "id": "8dY_kLIZGLov",
        "outputId": "6c43419a-2cd0-4109-b045-6bc1eae900fb"
      },
      "execution_count": 43,
      "outputs": [
        {
          "output_type": "stream",
          "name": "stdout",
          "text": [
            "[False False False  True  True]\n"
          ]
        }
      ]
    },
    {
      "cell_type": "code",
      "source": [
        "arr = np.array([[1, 2, 3], [4, 5, 6], [7, 8, 9]])\n",
        "mask = arr > 5  # Create a mask for elements greater than 5\n",
        "print(mask)\n",
        "filtered_arr = arr[mask]\n",
        "print(filtered_arr)  # Output: [6 7 8 9]\n"
      ],
      "metadata": {
        "colab": {
          "base_uri": "https://localhost:8080/"
        },
        "id": "l-TtAzmHKXZR",
        "outputId": "4fa9aa7f-cffb-4daf-b9ab-f89a7ff5dc05"
      },
      "execution_count": 44,
      "outputs": [
        {
          "output_type": "stream",
          "name": "stdout",
          "text": [
            "[[False False False]\n",
            " [False False  True]\n",
            " [ True  True  True]]\n",
            "[6 7 8 9]\n"
          ]
        }
      ]
    },
    {
      "cell_type": "code",
      "source": [
        "arr = np.array([10, 20, 30, 40, 50])\n",
        "mask = (arr > 20) & (arr < 50)  # Select elements greater than 20 and less than 50\n",
        "print(mask)  # Output: [False  True  True  True False]\n",
        "filtered_arr = arr[mask]\n",
        "print(filtered_arr)  # Output: [30 40]\n"
      ],
      "metadata": {
        "colab": {
          "base_uri": "https://localhost:8080/"
        },
        "id": "3ucFa1fyKeaR",
        "outputId": "8120fe48-16d2-4a36-a4e5-7a8ae19e48a4"
      },
      "execution_count": 46,
      "outputs": [
        {
          "output_type": "stream",
          "name": "stdout",
          "text": [
            "[False False  True  True False]\n",
            "[30 40]\n"
          ]
        }
      ]
    },
    {
      "cell_type": "code",
      "source": [
        "arr = np.array([10, 20, 30, 40, 50])\n",
        "result = np.where(arr > 30, arr, -1)  # Replace elements <= 30 with -1\n",
        "print(result)  # Output: [-1 -1 -1 40 50]\n"
      ],
      "metadata": {
        "colab": {
          "base_uri": "https://localhost:8080/"
        },
        "id": "g-JiMXaGKwBJ",
        "outputId": "7d46124e-7530-4066-e97f-775dffd78ae4"
      },
      "execution_count": 47,
      "outputs": [
        {
          "output_type": "stream",
          "name": "stdout",
          "text": [
            "[-1 -1 -1 40 50]\n"
          ]
        }
      ]
    },
    {
      "cell_type": "code",
      "source": [],
      "metadata": {
        "id": "kT5Fr3mtK6dt"
      },
      "execution_count": null,
      "outputs": []
    },
    {
      "cell_type": "markdown",
      "source": [
        "# **Ststistical Functions**"
      ],
      "metadata": {
        "id": "otMBmmffM7k1"
      }
    },
    {
      "cell_type": "code",
      "source": [
        "array = np.array([1,55,22,56,66,11,45])\n",
        "print(np.mean(array))\n",
        "print(np.median(array))\n",
        "print(np.std(array))\n",
        "print(np.var(array))\n",
        "print(np.min(array))\n",
        "print(np.max(array))"
      ],
      "metadata": {
        "colab": {
          "base_uri": "https://localhost:8080/"
        },
        "id": "7msK5yZVNCzx",
        "outputId": "b7b50471-5b98-4add-9acd-1fccb0a511f2"
      },
      "execution_count": 49,
      "outputs": [
        {
          "output_type": "stream",
          "name": "stdout",
          "text": [
            "36.57142857142857\n",
            "45.0\n",
            "23.255457994428152\n",
            "540.8163265306122\n",
            "1\n",
            "66\n"
          ]
        }
      ]
    },
    {
      "cell_type": "markdown",
      "source": [
        "#***spliting and joining***"
      ],
      "metadata": {
        "id": "YwxTuaRaPGJx"
      }
    },
    {
      "cell_type": "code",
      "source": [
        "array = np.arange(1,16)\n",
        "array1 = np.split(array,3)\n",
        "print(array1)"
      ],
      "metadata": {
        "colab": {
          "base_uri": "https://localhost:8080/"
        },
        "id": "E_woHo4ONMmD",
        "outputId": "b4fd0c48-0cc4-44d9-ff75-495e7975478f"
      },
      "execution_count": 57,
      "outputs": [
        {
          "output_type": "stream",
          "name": "stdout",
          "text": [
            "[array([1, 2, 3, 4, 5]), array([ 6,  7,  8,  9, 10]), array([11, 12, 13, 14, 15])]\n"
          ]
        }
      ]
    },
    {
      "cell_type": "markdown",
      "source": [
        "**Horizontal split and vertical splitting**"
      ],
      "metadata": {
        "id": "_D-S1sfOQW61"
      }
    },
    {
      "cell_type": "code",
      "source": [
        "arr = np.array([[1, 2, 3,2],\n",
        "                [4, 5, 6,5],\n",
        "                [7, 8, 9,7]])\n",
        "horizontal_split = np.hsplit(arr, 4)\n",
        "print(horizontal_split)\n",
        "vertical = np.vsplit(arr,3)\n",
        "print(vertical)"
      ],
      "metadata": {
        "colab": {
          "base_uri": "https://localhost:8080/"
        },
        "id": "Hq_-lW4sPi6Q",
        "outputId": "3b3418e0-c0ad-4400-bc36-f17c71c0c14b"
      },
      "execution_count": 63,
      "outputs": [
        {
          "output_type": "stream",
          "name": "stdout",
          "text": [
            "[array([[1],\n",
            "       [4],\n",
            "       [7]]), array([[2],\n",
            "       [5],\n",
            "       [8]]), array([[3],\n",
            "       [6],\n",
            "       [9]]), array([[2],\n",
            "       [5],\n",
            "       [7]])]\n",
            "[array([[1, 2, 3, 2]]), array([[4, 5, 6, 5]]), array([[7, 8, 9, 7]])]\n"
          ]
        }
      ]
    },
    {
      "cell_type": "markdown",
      "source": [
        "**concatination**"
      ],
      "metadata": {
        "id": "y16z2KyeRClw"
      }
    },
    {
      "cell_type": "code",
      "source": [
        "arr_1 = np.arange(1,50)\n",
        "arr_2 = np.array([4, 5, 6])\n",
        "concatenated_array = np.concatenate((arr_1, arr_2))\n",
        "print(concatenated_array)"
      ],
      "metadata": {
        "colab": {
          "base_uri": "https://localhost:8080/"
        },
        "id": "FQjJQzzFQpDu",
        "outputId": "9f58b616-0a13-45b2-c638-8a6945bf61fd"
      },
      "execution_count": 67,
      "outputs": [
        {
          "output_type": "stream",
          "name": "stdout",
          "text": [
            "[ 1  2  3  4  5  6  7  8  9 10 11 12 13 14 15 16 17 18 19 20 21 22 23 24\n",
            " 25 26 27 28 29 30 31 32 33 34 35 36 37 38 39 40 41 42 43 44 45 46 47 48\n",
            " 49  4  5  6]\n"
          ]
        }
      ]
    },
    {
      "cell_type": "markdown",
      "source": [
        "**adding and deleting using Numpy**"
      ],
      "metadata": {
        "id": "zR9b_UIgR-Gs"
      }
    },
    {
      "cell_type": "code",
      "source": [
        "arr_2 = np.array([4, 5, 6])\n",
        "appended = np.append(arr_2,1)\n",
        "appended_array = np.append(arr_2, [7, 8, 9])\n",
        "print(appended_array)\n",
        "deleted = np.delete(appended,1)\n",
        "print(deleted)\n",
        "#in 2D array\n",
        "arr = np.array([[1, 2, 3],\n",
        "                [4, 5, 6]])\n",
        "appended_array = np.append(arr, [[7, 8, 9]], axis=0)\n",
        "print(appended_array)\n",
        "deleted = np.delete(arr, 1, axis=0)\n",
        "print(deleted)"
      ],
      "metadata": {
        "colab": {
          "base_uri": "https://localhost:8080/"
        },
        "id": "QOvO8JXFRK3a",
        "outputId": "b7e304f9-02ed-46c2-b3ec-4652027e09db"
      },
      "execution_count": 75,
      "outputs": [
        {
          "output_type": "stream",
          "name": "stdout",
          "text": [
            "[4 5 6 7 8 9]\n",
            "[4 6 1]\n",
            "[[1 2 3]\n",
            " [4 5 6]\n",
            " [7 8 9]]\n",
            "[[1 2 3]]\n"
          ]
        }
      ]
    },
    {
      "cell_type": "code",
      "source": [],
      "metadata": {
        "id": "Uth2Q3DzScz8"
      },
      "execution_count": null,
      "outputs": []
    }
  ]
}